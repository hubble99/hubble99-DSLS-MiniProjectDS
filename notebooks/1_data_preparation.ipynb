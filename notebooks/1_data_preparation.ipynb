{
 "cells": [
  {
   "attachments": {},
   "cell_type": "markdown",
   "metadata": {},
   "source": [
    "### Congestion Prediction\n",
    "\n",
    "Problem Statement:\n",
    "We would predict congestion in the city of Bogor based on traffic data in that city"
   ]
  },
  {
   "cell_type": "code",
   "execution_count": 1,
   "metadata": {},
   "outputs": [],
   "source": [
    "import pandas as pd\n",
    "import numpy as np"
   ]
  },
  {
   "cell_type": "code",
   "execution_count": 2,
   "metadata": {},
   "outputs": [],
   "source": [
    "PATH_DATA='../data/raw/'\n",
    "PATH_DATA_INTERIM='../data/interim/'"
   ]
  },
  {
   "attachments": {},
   "cell_type": "markdown",
   "metadata": {},
   "source": [
    "## Get The data"
   ]
  },
  {
   "attachments": {},
   "cell_type": "markdown",
   "metadata": {},
   "source": [
    "Preview data"
   ]
  },
  {
   "cell_type": "code",
   "execution_count": 3,
   "metadata": {},
   "outputs": [],
   "source": [
    "data_agg_jams=pd.read_csv(PATH_DATA+'aggregate_median_jams_Kota Bogor.csv')"
   ]
  },
  {
   "cell_type": "code",
   "execution_count": 4,
   "metadata": {},
   "outputs": [
    {
     "data": {
      "text/html": [
       "<div>\n",
       "<style scoped>\n",
       "    .dataframe tbody tr th:only-of-type {\n",
       "        vertical-align: middle;\n",
       "    }\n",
       "\n",
       "    .dataframe tbody tr th {\n",
       "        vertical-align: top;\n",
       "    }\n",
       "\n",
       "    .dataframe thead th {\n",
       "        text-align: right;\n",
       "    }\n",
       "</style>\n",
       "<table border=\"1\" class=\"dataframe\">\n",
       "  <thead>\n",
       "    <tr style=\"text-align: right;\">\n",
       "      <th></th>\n",
       "      <th>Unnamed: 0</th>\n",
       "      <th>time</th>\n",
       "      <th>kemendagri_kabupaten_kode</th>\n",
       "      <th>kemendagri_kabupaten_nama</th>\n",
       "      <th>street</th>\n",
       "      <th>level</th>\n",
       "      <th>median_length</th>\n",
       "      <th>median_delay</th>\n",
       "      <th>median_speed_kmh</th>\n",
       "      <th>total_records</th>\n",
       "      <th>id</th>\n",
       "      <th>date</th>\n",
       "      <th>median_level</th>\n",
       "      <th>geometry</th>\n",
       "    </tr>\n",
       "  </thead>\n",
       "  <tbody>\n",
       "    <tr>\n",
       "      <th>43161</th>\n",
       "      <td>43161</td>\n",
       "      <td>2022-07-31 21:00:00.000</td>\n",
       "      <td>32.71</td>\n",
       "      <td>KOTA BOGOR</td>\n",
       "      <td>Haji Achmad Sobana</td>\n",
       "      <td>2</td>\n",
       "      <td>519.0</td>\n",
       "      <td>67.0</td>\n",
       "      <td>14.45</td>\n",
       "      <td>1</td>\n",
       "      <td>35097095</td>\n",
       "      <td>2022-07-31</td>\n",
       "      <td>2.0</td>\n",
       "      <td>LINESTRING (106.807901 -6.580977, 106.808541 -...</td>\n",
       "    </tr>\n",
       "    <tr>\n",
       "      <th>94710</th>\n",
       "      <td>15346</td>\n",
       "      <td>2022-08-31 20:00:00.000</td>\n",
       "      <td>32.71</td>\n",
       "      <td>KOTA BOGOR</td>\n",
       "      <td>N9 Raden KH Abdullah bin Nuh</td>\n",
       "      <td>1</td>\n",
       "      <td>1287.0</td>\n",
       "      <td>67.0</td>\n",
       "      <td>28.55</td>\n",
       "      <td>15</td>\n",
       "      <td>36957748</td>\n",
       "      <td>2022-08-31</td>\n",
       "      <td>1.0</td>\n",
       "      <td>MULTILINESTRING ((106.77938 -6.556308, 106.779...</td>\n",
       "    </tr>\n",
       "    <tr>\n",
       "      <th>102109</th>\n",
       "      <td>22745</td>\n",
       "      <td>2022-09-04 19:00:00.000</td>\n",
       "      <td>32.71</td>\n",
       "      <td>KOTA BOGOR</td>\n",
       "      <td>Brigjen Saptadji Hadi Prawira</td>\n",
       "      <td>1</td>\n",
       "      <td>1469.0</td>\n",
       "      <td>85.0</td>\n",
       "      <td>24.67</td>\n",
       "      <td>21</td>\n",
       "      <td>37225749</td>\n",
       "      <td>2022-09-04</td>\n",
       "      <td>1.0</td>\n",
       "      <td>MULTILINESTRING ((106.763351 -6.564478, 106.76...</td>\n",
       "    </tr>\n",
       "  </tbody>\n",
       "</table>\n",
       "</div>"
      ],
      "text/plain": [
       "        Unnamed: 0                     time  kemendagri_kabupaten_kode  \\\n",
       "43161        43161  2022-07-31 21:00:00.000                      32.71   \n",
       "94710        15346  2022-08-31 20:00:00.000                      32.71   \n",
       "102109       22745  2022-09-04 19:00:00.000                      32.71   \n",
       "\n",
       "       kemendagri_kabupaten_nama                         street  level  \\\n",
       "43161                 KOTA BOGOR             Haji Achmad Sobana      2   \n",
       "94710                 KOTA BOGOR   N9 Raden KH Abdullah bin Nuh      1   \n",
       "102109                KOTA BOGOR  Brigjen Saptadji Hadi Prawira      1   \n",
       "\n",
       "        median_length  median_delay  median_speed_kmh  total_records  \\\n",
       "43161           519.0          67.0             14.45              1   \n",
       "94710          1287.0          67.0             28.55             15   \n",
       "102109         1469.0          85.0             24.67             21   \n",
       "\n",
       "              id        date  median_level  \\\n",
       "43161   35097095  2022-07-31           2.0   \n",
       "94710   36957748  2022-08-31           1.0   \n",
       "102109  37225749  2022-09-04           1.0   \n",
       "\n",
       "                                                 geometry  \n",
       "43161   LINESTRING (106.807901 -6.580977, 106.808541 -...  \n",
       "94710   MULTILINESTRING ((106.77938 -6.556308, 106.779...  \n",
       "102109  MULTILINESTRING ((106.763351 -6.564478, 106.76...  "
      ]
     },
     "execution_count": 4,
     "metadata": {},
     "output_type": "execute_result"
    }
   ],
   "source": [
    "data_agg_jams.sample(3)"
   ]
  },
  {
   "cell_type": "code",
   "execution_count": 5,
   "metadata": {},
   "outputs": [
    {
     "data": {
      "text/plain": [
       "(102322, 14)"
      ]
     },
     "execution_count": 5,
     "metadata": {},
     "output_type": "execute_result"
    }
   ],
   "source": [
    "data_agg_jams.shape"
   ]
  },
  {
   "cell_type": "code",
   "execution_count": null,
   "metadata": {},
   "outputs": [],
   "source": []
  },
  {
   "cell_type": "code",
   "execution_count": 8,
   "metadata": {},
   "outputs": [
    {
     "name": "stdout",
     "output_type": "stream",
     "text": [
      "<class 'pandas.core.frame.DataFrame'>\n",
      "RangeIndex: 102322 entries, 0 to 102321\n",
      "Data columns (total 14 columns):\n",
      " #   Column                     Non-Null Count   Dtype  \n",
      "---  ------                     --------------   -----  \n",
      " 0   Unnamed: 0                 102322 non-null  int64  \n",
      " 1   time                       102322 non-null  object \n",
      " 2   kemendagri_kabupaten_kode  102322 non-null  float64\n",
      " 3   kemendagri_kabupaten_nama  102322 non-null  object \n",
      " 4   street                     100529 non-null  object \n",
      " 5   level                      102322 non-null  int64  \n",
      " 6   median_length              102322 non-null  float64\n",
      " 7   median_delay               102322 non-null  float64\n",
      " 8   median_speed_kmh           102322 non-null  float64\n",
      " 9   total_records              102322 non-null  int64  \n",
      " 10  id                         102322 non-null  int64  \n",
      " 11  date                       102322 non-null  object \n",
      " 12  median_level               102322 non-null  float64\n",
      " 13  geometry                   102322 non-null  object \n",
      "dtypes: float64(5), int64(4), object(5)\n",
      "memory usage: 10.9+ MB\n"
     ]
    }
   ],
   "source": [
    "data_agg_jams.info()"
   ]
  },
  {
   "cell_type": "code",
   "execution_count": 9,
   "metadata": {},
   "outputs": [],
   "source": [
    "#Mengambil label target yaitu level dan feature yang dipakai\n",
    "data_agg_jams2=data_agg_jams[['id','time','street','median_length','median_delay','median_speed_kmh','total_records','level']]"
   ]
  },
  {
   "cell_type": "code",
   "execution_count": 10,
   "metadata": {},
   "outputs": [
    {
     "data": {
      "text/html": [
       "<div>\n",
       "<style scoped>\n",
       "    .dataframe tbody tr th:only-of-type {\n",
       "        vertical-align: middle;\n",
       "    }\n",
       "\n",
       "    .dataframe tbody tr th {\n",
       "        vertical-align: top;\n",
       "    }\n",
       "\n",
       "    .dataframe thead th {\n",
       "        text-align: right;\n",
       "    }\n",
       "</style>\n",
       "<table border=\"1\" class=\"dataframe\">\n",
       "  <thead>\n",
       "    <tr style=\"text-align: right;\">\n",
       "      <th></th>\n",
       "      <th>id</th>\n",
       "      <th>time</th>\n",
       "      <th>street</th>\n",
       "      <th>median_length</th>\n",
       "      <th>median_delay</th>\n",
       "      <th>median_speed_kmh</th>\n",
       "      <th>total_records</th>\n",
       "      <th>level</th>\n",
       "    </tr>\n",
       "  </thead>\n",
       "  <tbody>\n",
       "    <tr>\n",
       "      <th>39861</th>\n",
       "      <td>35022436</td>\n",
       "      <td>2022-07-30 13:00:00.000</td>\n",
       "      <td>Pajajaran Indah 5</td>\n",
       "      <td>523.0</td>\n",
       "      <td>142.0</td>\n",
       "      <td>7.25</td>\n",
       "      <td>19</td>\n",
       "      <td>3</td>\n",
       "    </tr>\n",
       "    <tr>\n",
       "      <th>98304</th>\n",
       "      <td>37147355</td>\n",
       "      <td>2022-09-03 09:00:00.000</td>\n",
       "      <td>KH Soleh Iskandar (Jalur Lambat)</td>\n",
       "      <td>631.0</td>\n",
       "      <td>122.0</td>\n",
       "      <td>11.72</td>\n",
       "      <td>1</td>\n",
       "      <td>3</td>\n",
       "    </tr>\n",
       "    <tr>\n",
       "      <th>55787</th>\n",
       "      <td>35603446</td>\n",
       "      <td>2022-08-08 07:00:00.000</td>\n",
       "      <td>Atang Sanjaya</td>\n",
       "      <td>938.0</td>\n",
       "      <td>63.0</td>\n",
       "      <td>17.62</td>\n",
       "      <td>2</td>\n",
       "      <td>1</td>\n",
       "    </tr>\n",
       "    <tr>\n",
       "      <th>61004</th>\n",
       "      <td>35773193</td>\n",
       "      <td>2022-08-11 13:00:00.000</td>\n",
       "      <td>Meranti</td>\n",
       "      <td>550.0</td>\n",
       "      <td>64.0</td>\n",
       "      <td>12.26</td>\n",
       "      <td>1</td>\n",
       "      <td>2</td>\n",
       "    </tr>\n",
       "    <tr>\n",
       "      <th>8486</th>\n",
       "      <td>33771976</td>\n",
       "      <td>2022-07-11 18:00:00.000</td>\n",
       "      <td>TB M Falak</td>\n",
       "      <td>404.0</td>\n",
       "      <td>88.0</td>\n",
       "      <td>10.47</td>\n",
       "      <td>11</td>\n",
       "      <td>2</td>\n",
       "    </tr>\n",
       "    <tr>\n",
       "      <th>20007</th>\n",
       "      <td>34263328</td>\n",
       "      <td>2022-07-18 11:00:00.000</td>\n",
       "      <td>N9 Jalan Raya Pajajaran</td>\n",
       "      <td>190.0</td>\n",
       "      <td>133.0</td>\n",
       "      <td>4.58</td>\n",
       "      <td>1</td>\n",
       "      <td>4</td>\n",
       "    </tr>\n",
       "  </tbody>\n",
       "</table>\n",
       "</div>"
      ],
      "text/plain": [
       "             id                     time                            street  \\\n",
       "39861  35022436  2022-07-30 13:00:00.000                 Pajajaran Indah 5   \n",
       "98304  37147355  2022-09-03 09:00:00.000  KH Soleh Iskandar (Jalur Lambat)   \n",
       "55787  35603446  2022-08-08 07:00:00.000                     Atang Sanjaya   \n",
       "61004  35773193  2022-08-11 13:00:00.000                           Meranti   \n",
       "8486   33771976  2022-07-11 18:00:00.000                        TB M Falak   \n",
       "20007  34263328  2022-07-18 11:00:00.000           N9 Jalan Raya Pajajaran   \n",
       "\n",
       "       median_length  median_delay  median_speed_kmh  total_records  level  \n",
       "39861          523.0         142.0              7.25             19      3  \n",
       "98304          631.0         122.0             11.72              1      3  \n",
       "55787          938.0          63.0             17.62              2      1  \n",
       "61004          550.0          64.0             12.26              1      2  \n",
       "8486           404.0          88.0             10.47             11      2  \n",
       "20007          190.0         133.0              4.58              1      4  "
      ]
     },
     "execution_count": 10,
     "metadata": {},
     "output_type": "execute_result"
    }
   ],
   "source": [
    "data_agg_jams2.sample(6)"
   ]
  },
  {
   "cell_type": "code",
   "execution_count": 11,
   "metadata": {},
   "outputs": [
    {
     "data": {
      "text/plain": [
       "street    0.017523\n",
       "dtype: float64"
      ]
     },
     "execution_count": 11,
     "metadata": {},
     "output_type": "execute_result"
    }
   ],
   "source": [
    "col_null = data_agg_jams2.isnull().sum()/len(data_agg_jams2)\n",
    "col_null[col_null>0]"
   ]
  },
  {
   "cell_type": "code",
   "execution_count": 12,
   "metadata": {},
   "outputs": [
    {
     "name": "stderr",
     "output_type": "stream",
     "text": [
      "C:\\Users\\ramad\\AppData\\Local\\Temp\\ipykernel_10588\\2997304100.py:1: SettingWithCopyWarning: \n",
      "A value is trying to be set on a copy of a slice from a DataFrame\n",
      "\n",
      "See the caveats in the documentation: https://pandas.pydata.org/pandas-docs/stable/user_guide/indexing.html#returning-a-view-versus-a-copy\n",
      "  data_agg_jams2.dropna(inplace=True)\n"
     ]
    }
   ],
   "source": [
    "data_agg_jams2.dropna(inplace=True)"
   ]
  },
  {
   "cell_type": "code",
   "execution_count": 13,
   "metadata": {},
   "outputs": [
    {
     "data": {
      "text/plain": [
       "(100529, 8)"
      ]
     },
     "execution_count": 13,
     "metadata": {},
     "output_type": "execute_result"
    }
   ],
   "source": [
    "data_agg_jams2.shape"
   ]
  },
  {
   "cell_type": "code",
   "execution_count": 14,
   "metadata": {},
   "outputs": [
    {
     "name": "stderr",
     "output_type": "stream",
     "text": [
      "C:\\Users\\ramad\\AppData\\Local\\Temp\\ipykernel_10588\\3523374544.py:2: SettingWithCopyWarning: \n",
      "A value is trying to be set on a copy of a slice from a DataFrame.\n",
      "Try using .loc[row_indexer,col_indexer] = value instead\n",
      "\n",
      "See the caveats in the documentation: https://pandas.pydata.org/pandas-docs/stable/user_guide/indexing.html#returning-a-view-versus-a-copy\n",
      "  data_agg_jams2['time2'] = pd.to_datetime(data_agg_jams2['time'])\n",
      "C:\\Users\\ramad\\AppData\\Local\\Temp\\ipykernel_10588\\3523374544.py:3: SettingWithCopyWarning: \n",
      "A value is trying to be set on a copy of a slice from a DataFrame.\n",
      "Try using .loc[row_indexer,col_indexer] = value instead\n",
      "\n",
      "See the caveats in the documentation: https://pandas.pydata.org/pandas-docs/stable/user_guide/indexing.html#returning-a-view-versus-a-copy\n",
      "  data_agg_jams2['hours'] = data_agg_jams2['time2'].dt.strftime('%H').astype(int)\n",
      "C:\\Users\\ramad\\AppData\\Local\\Temp\\ipykernel_10588\\3523374544.py:4: SettingWithCopyWarning: \n",
      "A value is trying to be set on a copy of a slice from a DataFrame.\n",
      "Try using .loc[row_indexer,col_indexer] = value instead\n",
      "\n",
      "See the caveats in the documentation: https://pandas.pydata.org/pandas-docs/stable/user_guide/indexing.html#returning-a-view-versus-a-copy\n",
      "  data_agg_jams2['is_weekend'] = data_agg_jams2['time2'].dt.strftime('%w').isin(['0','6']).astype(int)\n",
      "C:\\Users\\ramad\\AppData\\Local\\Temp\\ipykernel_10588\\3523374544.py:5: SettingWithCopyWarning: \n",
      "A value is trying to be set on a copy of a slice from a DataFrame.\n",
      "Try using .loc[row_indexer,col_indexer] = value instead\n",
      "\n",
      "See the caveats in the documentation: https://pandas.pydata.org/pandas-docs/stable/user_guide/indexing.html#returning-a-view-versus-a-copy\n",
      "  data_agg_jams2['streettime']= data_agg_jams2['street']+'_'+data_agg_jams2['hours'].astype(str)+'_'+data_agg_jams2['is_weekend'].astype(str)\n"
     ]
    }
   ],
   "source": [
    "#menambahkan kolom streettime untuk foreign key untuk menggabungkan feature baru yang akan dibuat\n",
    "data_agg_jams2['time2'] = pd.to_datetime(data_agg_jams2['time'])\n",
    "data_agg_jams2['hours'] = data_agg_jams2['time2'].dt.strftime('%H').astype(int)\n",
    "data_agg_jams2['is_weekend'] = data_agg_jams2['time2'].dt.strftime('%w').isin(['0','6']).astype(int)\n",
    "data_agg_jams2['streettime']= data_agg_jams2['street']+'_'+data_agg_jams2['hours'].astype(str)+'_'+data_agg_jams2['is_weekend'].astype(str)"
   ]
  },
  {
   "cell_type": "code",
   "execution_count": 16,
   "metadata": {},
   "outputs": [
    {
     "name": "stdout",
     "output_type": "stream",
     "text": [
      "80423\n"
     ]
    }
   ],
   "source": [
    "train_size = int(len(data_agg_jams2)*0.8) ##--> train size\n",
    "print(train_size)"
   ]
  },
  {
   "cell_type": "code",
   "execution_count": 17,
   "metadata": {},
   "outputs": [
    {
     "name": "stderr",
     "output_type": "stream",
     "text": [
      "C:\\Users\\ramad\\AppData\\Local\\Temp\\ipykernel_10588\\390412219.py:2: SettingWithCopyWarning: \n",
      "A value is trying to be set on a copy of a slice from a DataFrame.\n",
      "Try using .loc[row_indexer,col_indexer] = value instead\n",
      "\n",
      "See the caveats in the documentation: https://pandas.pydata.org/pandas-docs/stable/user_guide/indexing.html#returning-a-view-versus-a-copy\n",
      "  data_agg_jams2['is_train'] = data_agg_jams2.id.isin(congestion_train).astype(int)\n"
     ]
    }
   ],
   "source": [
    "congestion_train = data_agg_jams2.sample(train_size,random_state = 103)['id']\n",
    "data_agg_jams2['is_train'] = data_agg_jams2.id.isin(congestion_train).astype(int)"
   ]
  },
  {
   "cell_type": "code",
   "execution_count": 18,
   "metadata": {},
   "outputs": [
    {
     "data": {
      "text/html": [
       "<div>\n",
       "<style scoped>\n",
       "    .dataframe tbody tr th:only-of-type {\n",
       "        vertical-align: middle;\n",
       "    }\n",
       "\n",
       "    .dataframe tbody tr th {\n",
       "        vertical-align: top;\n",
       "    }\n",
       "\n",
       "    .dataframe thead th {\n",
       "        text-align: right;\n",
       "    }\n",
       "</style>\n",
       "<table border=\"1\" class=\"dataframe\">\n",
       "  <thead>\n",
       "    <tr style=\"text-align: right;\">\n",
       "      <th></th>\n",
       "      <th>id</th>\n",
       "      <th>time</th>\n",
       "      <th>street</th>\n",
       "      <th>median_length</th>\n",
       "      <th>median_delay</th>\n",
       "      <th>median_speed_kmh</th>\n",
       "      <th>total_records</th>\n",
       "      <th>level</th>\n",
       "      <th>time2</th>\n",
       "      <th>hours</th>\n",
       "      <th>is_weekend</th>\n",
       "      <th>streettime</th>\n",
       "      <th>streettime2</th>\n",
       "      <th>is_train</th>\n",
       "    </tr>\n",
       "  </thead>\n",
       "  <tbody>\n",
       "    <tr>\n",
       "      <th>85497</th>\n",
       "      <td>36639691</td>\n",
       "      <td>2022-08-26 23:00:00.000</td>\n",
       "      <td>N8 Jalan Raya Sukabumi</td>\n",
       "      <td>689.0</td>\n",
       "      <td>83.0</td>\n",
       "      <td>16.24</td>\n",
       "      <td>9</td>\n",
       "      <td>2</td>\n",
       "      <td>2022-08-26 23:00:00</td>\n",
       "      <td>23</td>\n",
       "      <td>0</td>\n",
       "      <td>N8 Jalan Raya Sukabumi_23_0</td>\n",
       "      <td>N8 Jalan Raya Sukabumi_2022-08-26 23:00:00.000</td>\n",
       "      <td>1</td>\n",
       "    </tr>\n",
       "  </tbody>\n",
       "</table>\n",
       "</div>"
      ],
      "text/plain": [
       "             id                     time                  street  \\\n",
       "85497  36639691  2022-08-26 23:00:00.000  N8 Jalan Raya Sukabumi   \n",
       "\n",
       "       median_length  median_delay  median_speed_kmh  total_records  level  \\\n",
       "85497          689.0          83.0             16.24              9      2   \n",
       "\n",
       "                    time2  hours  is_weekend                   streettime  \\\n",
       "85497 2022-08-26 23:00:00     23           0  N8 Jalan Raya Sukabumi_23_0   \n",
       "\n",
       "                                          streettime2  is_train  \n",
       "85497  N8 Jalan Raya Sukabumi_2022-08-26 23:00:00.000         1  "
      ]
     },
     "execution_count": 18,
     "metadata": {},
     "output_type": "execute_result"
    }
   ],
   "source": [
    "data_agg_jams2.sample()"
   ]
  },
  {
   "attachments": {},
   "cell_type": "markdown",
   "metadata": {},
   "source": [
    "## Waktu Features\n",
    "menggunakan kolom streettime, time2, level, hours, is_weekend pada data data_agg_jams2\n",
    "1. rata-rata level pada weekdays (senin-jumat)\n",
    "2. simpangan baku level pada weekdays (senin-jumat)\n",
    "3. rata-rata level pada weekend\n",
    "4. simpangan baku pada weekend\n",
    "5. rata-rata level pada jam berangkat kerja (jam 6-9) pada hari kerja\n",
    "6. simpangan baku pada jam berangkat kerja (jam 6-9) pada hari kerja\n",
    "7. rata-rata level pada jam pulang kerja (jam 15-18) pada hari kerja\n",
    "8. simpangan baku pada jam pulang kerja (jam 15-18) pada hari kerja"
   ]
  },
  {
   "cell_type": "code",
   "execution_count": 19,
   "metadata": {},
   "outputs": [],
   "source": [
    "a=data_agg_jams2[data_agg_jams2.is_train==1]\n",
    "street_date=a[['streettime','time2','level','hours','is_weekend']]"
   ]
  },
  {
   "cell_type": "code",
   "execution_count": 20,
   "metadata": {},
   "outputs": [
    {
     "data": {
      "text/html": [
       "<div>\n",
       "<style scoped>\n",
       "    .dataframe tbody tr th:only-of-type {\n",
       "        vertical-align: middle;\n",
       "    }\n",
       "\n",
       "    .dataframe tbody tr th {\n",
       "        vertical-align: top;\n",
       "    }\n",
       "\n",
       "    .dataframe thead th {\n",
       "        text-align: right;\n",
       "    }\n",
       "</style>\n",
       "<table border=\"1\" class=\"dataframe\">\n",
       "  <thead>\n",
       "    <tr style=\"text-align: right;\">\n",
       "      <th></th>\n",
       "      <th>streettime</th>\n",
       "      <th>time2</th>\n",
       "      <th>level</th>\n",
       "      <th>hours</th>\n",
       "      <th>is_weekend</th>\n",
       "    </tr>\n",
       "  </thead>\n",
       "  <tbody>\n",
       "    <tr>\n",
       "      <th>31554</th>\n",
       "      <td>N9 Raden KH Abdullah bin Nuh_11_0</td>\n",
       "      <td>2022-07-25 11:00:00</td>\n",
       "      <td>1</td>\n",
       "      <td>11</td>\n",
       "      <td>0</td>\n",
       "    </tr>\n",
       "    <tr>\n",
       "      <th>87401</th>\n",
       "      <td>Pangeran Asogiri_18_1</td>\n",
       "      <td>2022-08-27 18:00:00</td>\n",
       "      <td>2</td>\n",
       "      <td>18</td>\n",
       "      <td>1</td>\n",
       "    </tr>\n",
       "    <tr>\n",
       "      <th>523</th>\n",
       "      <td>N9 Jalan Raya Pajajaran_12_0</td>\n",
       "      <td>2022-07-06 12:00:00</td>\n",
       "      <td>4</td>\n",
       "      <td>12</td>\n",
       "      <td>0</td>\n",
       "    </tr>\n",
       "    <tr>\n",
       "      <th>55309</th>\n",
       "      <td>Brigjen Saptadji Hadi Prawira_18_1</td>\n",
       "      <td>2022-08-07 18:00:00</td>\n",
       "      <td>2</td>\n",
       "      <td>18</td>\n",
       "      <td>1</td>\n",
       "    </tr>\n",
       "    <tr>\n",
       "      <th>24756</th>\n",
       "      <td>Cilebut Raya_14_0</td>\n",
       "      <td>2022-07-21 14:00:00</td>\n",
       "      <td>2</td>\n",
       "      <td>14</td>\n",
       "      <td>0</td>\n",
       "    </tr>\n",
       "    <tr>\n",
       "      <th>83415</th>\n",
       "      <td>Cilebut Raya_17_0</td>\n",
       "      <td>2022-08-25 17:00:00</td>\n",
       "      <td>2</td>\n",
       "      <td>17</td>\n",
       "      <td>0</td>\n",
       "    </tr>\n",
       "    <tr>\n",
       "      <th>17983</th>\n",
       "      <td>Kapten Muslihat_12_1</td>\n",
       "      <td>2022-07-17 12:00:00</td>\n",
       "      <td>3</td>\n",
       "      <td>12</td>\n",
       "      <td>1</td>\n",
       "    </tr>\n",
       "    <tr>\n",
       "      <th>5190</th>\n",
       "      <td>Jalan Kampung Buntar_12_1</td>\n",
       "      <td>2022-07-09 12:00:00</td>\n",
       "      <td>3</td>\n",
       "      <td>12</td>\n",
       "      <td>1</td>\n",
       "    </tr>\n",
       "    <tr>\n",
       "      <th>17097</th>\n",
       "      <td>Kedunghalang Raya_19_1</td>\n",
       "      <td>2022-07-16 19:00:00</td>\n",
       "      <td>1</td>\n",
       "      <td>19</td>\n",
       "      <td>1</td>\n",
       "    </tr>\n",
       "    <tr>\n",
       "      <th>44194</th>\n",
       "      <td>Brigjen Saptadji Hadi Prawira_14_0</td>\n",
       "      <td>2022-08-01 14:00:00</td>\n",
       "      <td>3</td>\n",
       "      <td>14</td>\n",
       "      <td>0</td>\n",
       "    </tr>\n",
       "  </tbody>\n",
       "</table>\n",
       "</div>"
      ],
      "text/plain": [
       "                               streettime               time2  level  hours  \\\n",
       "31554   N9 Raden KH Abdullah bin Nuh_11_0 2022-07-25 11:00:00      1     11   \n",
       "87401               Pangeran Asogiri_18_1 2022-08-27 18:00:00      2     18   \n",
       "523          N9 Jalan Raya Pajajaran_12_0 2022-07-06 12:00:00      4     12   \n",
       "55309  Brigjen Saptadji Hadi Prawira_18_1 2022-08-07 18:00:00      2     18   \n",
       "24756                   Cilebut Raya_14_0 2022-07-21 14:00:00      2     14   \n",
       "83415                   Cilebut Raya_17_0 2022-08-25 17:00:00      2     17   \n",
       "17983                Kapten Muslihat_12_1 2022-07-17 12:00:00      3     12   \n",
       "5190            Jalan Kampung Buntar_12_1 2022-07-09 12:00:00      3     12   \n",
       "17097              Kedunghalang Raya_19_1 2022-07-16 19:00:00      1     19   \n",
       "44194  Brigjen Saptadji Hadi Prawira_14_0 2022-08-01 14:00:00      3     14   \n",
       "\n",
       "       is_weekend  \n",
       "31554           0  \n",
       "87401           1  \n",
       "523             0  \n",
       "55309           1  \n",
       "24756           0  \n",
       "83415           0  \n",
       "17983           1  \n",
       "5190            1  \n",
       "17097           1  \n",
       "44194           0  "
      ]
     },
     "execution_count": 20,
     "metadata": {},
     "output_type": "execute_result"
    }
   ],
   "source": [
    "street_date.sample(10)"
   ]
  },
  {
   "cell_type": "code",
   "execution_count": 21,
   "metadata": {},
   "outputs": [
    {
     "name": "stderr",
     "output_type": "stream",
     "text": [
      "C:\\Users\\ramad\\AppData\\Local\\Temp\\ipykernel_10588\\1080592666.py:1: SettingWithCopyWarning: \n",
      "A value is trying to be set on a copy of a slice from a DataFrame.\n",
      "Try using .loc[row_indexer,col_indexer] = value instead\n",
      "\n",
      "See the caveats in the documentation: https://pandas.pydata.org/pandas-docs/stable/user_guide/indexing.html#returning-a-view-versus-a-copy\n",
      "  street_date['level_weekend'] = street_date.apply(lambda x: x['level']\n",
      "C:\\Users\\ramad\\AppData\\Local\\Temp\\ipykernel_10588\\1080592666.py:3: SettingWithCopyWarning: \n",
      "A value is trying to be set on a copy of a slice from a DataFrame.\n",
      "Try using .loc[row_indexer,col_indexer] = value instead\n",
      "\n",
      "See the caveats in the documentation: https://pandas.pydata.org/pandas-docs/stable/user_guide/indexing.html#returning-a-view-versus-a-copy\n",
      "  street_date['level_weekday'] = street_date.apply(lambda x: x['level']\n"
     ]
    }
   ],
   "source": [
    "street_date['level_weekend'] = street_date.apply(lambda x: x['level']\n",
    "                        if x['is_weekend'] == 1 else np.nan, axis=1)\n",
    "street_date['level_weekday'] = street_date.apply(lambda x: x['level']\n",
    "                        if x['is_weekend'] == 0 else np.nan, axis=1)"
   ]
  },
  {
   "cell_type": "code",
   "execution_count": 22,
   "metadata": {},
   "outputs": [
    {
     "name": "stderr",
     "output_type": "stream",
     "text": [
      "C:\\Users\\ramad\\AppData\\Local\\Temp\\ipykernel_10588\\2494142457.py:1: SettingWithCopyWarning: \n",
      "A value is trying to be set on a copy of a slice from a DataFrame.\n",
      "Try using .loc[row_indexer,col_indexer] = value instead\n",
      "\n",
      "See the caveats in the documentation: https://pandas.pydata.org/pandas-docs/stable/user_guide/indexing.html#returning-a-view-versus-a-copy\n",
      "  street_date['weekday69']= street_date.apply(lambda x: x['level']\n",
      "C:\\Users\\ramad\\AppData\\Local\\Temp\\ipykernel_10588\\2494142457.py:4: SettingWithCopyWarning: \n",
      "A value is trying to be set on a copy of a slice from a DataFrame.\n",
      "Try using .loc[row_indexer,col_indexer] = value instead\n",
      "\n",
      "See the caveats in the documentation: https://pandas.pydata.org/pandas-docs/stable/user_guide/indexing.html#returning-a-view-versus-a-copy\n",
      "  street_date['weekday1518']= street_date.apply(lambda x: x['level']\n"
     ]
    }
   ],
   "source": [
    "street_date['weekday69']= street_date.apply(lambda x: x['level']\n",
    "                        if x['is_weekend']==0 and (x['hours']==6 or x['hours']==7 or x['hours']==8 or x['hours']==9)\n",
    "                        else np.nan, axis=1)\n",
    "street_date['weekday1518']= street_date.apply(lambda x: x['level']\n",
    "                        if x['is_weekend']==0 and (x['hours']==15 or x['hours']==16 or x['hours']==17 or x['hours']==18)\n",
    "                        else np.nan, axis=1)"
   ]
  },
  {
   "cell_type": "code",
   "execution_count": 23,
   "metadata": {},
   "outputs": [
    {
     "data": {
      "text/html": [
       "<div>\n",
       "<style scoped>\n",
       "    .dataframe tbody tr th:only-of-type {\n",
       "        vertical-align: middle;\n",
       "    }\n",
       "\n",
       "    .dataframe tbody tr th {\n",
       "        vertical-align: top;\n",
       "    }\n",
       "\n",
       "    .dataframe thead th {\n",
       "        text-align: right;\n",
       "    }\n",
       "</style>\n",
       "<table border=\"1\" class=\"dataframe\">\n",
       "  <thead>\n",
       "    <tr style=\"text-align: right;\">\n",
       "      <th></th>\n",
       "      <th>streettime</th>\n",
       "      <th>time2</th>\n",
       "      <th>level</th>\n",
       "      <th>hours</th>\n",
       "      <th>is_weekend</th>\n",
       "      <th>level_weekend</th>\n",
       "      <th>level_weekday</th>\n",
       "      <th>weekday69</th>\n",
       "      <th>weekday1518</th>\n",
       "    </tr>\n",
       "  </thead>\n",
       "  <tbody>\n",
       "    <tr>\n",
       "      <th>13140</th>\n",
       "      <td>N6 Jalan Raya Kemang-Bogor_20_0</td>\n",
       "      <td>2022-07-14 20:00:00</td>\n",
       "      <td>2</td>\n",
       "      <td>20</td>\n",
       "      <td>0</td>\n",
       "      <td>NaN</td>\n",
       "      <td>2.0</td>\n",
       "      <td>NaN</td>\n",
       "      <td>NaN</td>\n",
       "    </tr>\n",
       "    <tr>\n",
       "      <th>102296</th>\n",
       "      <td>Semplak Raya_22_1</td>\n",
       "      <td>2022-09-04 22:00:00</td>\n",
       "      <td>2</td>\n",
       "      <td>22</td>\n",
       "      <td>1</td>\n",
       "      <td>2.0</td>\n",
       "      <td>NaN</td>\n",
       "      <td>NaN</td>\n",
       "      <td>NaN</td>\n",
       "    </tr>\n",
       "    <tr>\n",
       "      <th>68231</th>\n",
       "      <td>Laladon Raya_14_0</td>\n",
       "      <td>2022-08-15 14:00:00</td>\n",
       "      <td>3</td>\n",
       "      <td>14</td>\n",
       "      <td>0</td>\n",
       "      <td>NaN</td>\n",
       "      <td>3.0</td>\n",
       "      <td>NaN</td>\n",
       "      <td>NaN</td>\n",
       "    </tr>\n",
       "    <tr>\n",
       "      <th>19460</th>\n",
       "      <td>KH Soleh Iskandar (Jalur Lambat)_4_0</td>\n",
       "      <td>2022-07-18 04:00:00</td>\n",
       "      <td>5</td>\n",
       "      <td>4</td>\n",
       "      <td>0</td>\n",
       "      <td>NaN</td>\n",
       "      <td>5.0</td>\n",
       "      <td>NaN</td>\n",
       "      <td>NaN</td>\n",
       "    </tr>\n",
       "    <tr>\n",
       "      <th>62159</th>\n",
       "      <td>N9 Jalan Raya Tajur_9_0</td>\n",
       "      <td>2022-08-12 09:00:00</td>\n",
       "      <td>2</td>\n",
       "      <td>9</td>\n",
       "      <td>0</td>\n",
       "      <td>NaN</td>\n",
       "      <td>2.0</td>\n",
       "      <td>2.0</td>\n",
       "      <td>NaN</td>\n",
       "    </tr>\n",
       "  </tbody>\n",
       "</table>\n",
       "</div>"
      ],
      "text/plain": [
       "                                  streettime               time2  level  \\\n",
       "13140        N6 Jalan Raya Kemang-Bogor_20_0 2022-07-14 20:00:00      2   \n",
       "102296                     Semplak Raya_22_1 2022-09-04 22:00:00      2   \n",
       "68231                      Laladon Raya_14_0 2022-08-15 14:00:00      3   \n",
       "19460   KH Soleh Iskandar (Jalur Lambat)_4_0 2022-07-18 04:00:00      5   \n",
       "62159                N9 Jalan Raya Tajur_9_0 2022-08-12 09:00:00      2   \n",
       "\n",
       "        hours  is_weekend  level_weekend  level_weekday  weekday69  \\\n",
       "13140      20           0            NaN            2.0        NaN   \n",
       "102296     22           1            2.0            NaN        NaN   \n",
       "68231      14           0            NaN            3.0        NaN   \n",
       "19460       4           0            NaN            5.0        NaN   \n",
       "62159       9           0            NaN            2.0        2.0   \n",
       "\n",
       "        weekday1518  \n",
       "13140           NaN  \n",
       "102296          NaN  \n",
       "68231           NaN  \n",
       "19460           NaN  \n",
       "62159           NaN  "
      ]
     },
     "execution_count": 23,
     "metadata": {},
     "output_type": "execute_result"
    }
   ],
   "source": [
    "street_date.sample(5)"
   ]
  },
  {
   "cell_type": "code",
   "execution_count": 24,
   "metadata": {},
   "outputs": [],
   "source": [
    "streetWeekend = street_date[street_date['is_weekend']==1]\n",
    "streetWeekend = streetWeekend[['streettime','level_weekend']]"
   ]
  },
  {
   "cell_type": "code",
   "execution_count": 25,
   "metadata": {},
   "outputs": [
    {
     "data": {
      "text/html": [
       "<div>\n",
       "<style scoped>\n",
       "    .dataframe tbody tr th:only-of-type {\n",
       "        vertical-align: middle;\n",
       "    }\n",
       "\n",
       "    .dataframe tbody tr th {\n",
       "        vertical-align: top;\n",
       "    }\n",
       "\n",
       "    .dataframe thead th {\n",
       "        text-align: right;\n",
       "    }\n",
       "</style>\n",
       "<table border=\"1\" class=\"dataframe\">\n",
       "  <thead>\n",
       "    <tr style=\"text-align: right;\">\n",
       "      <th></th>\n",
       "      <th>streettime</th>\n",
       "      <th>weekendmean</th>\n",
       "    </tr>\n",
       "  </thead>\n",
       "  <tbody>\n",
       "    <tr>\n",
       "      <th>2553</th>\n",
       "      <td>Warung Nangka_12_1</td>\n",
       "      <td>1.000000</td>\n",
       "    </tr>\n",
       "    <tr>\n",
       "      <th>1168</th>\n",
       "      <td>Kebon Pedes_20_1</td>\n",
       "      <td>2.230769</td>\n",
       "    </tr>\n",
       "    <tr>\n",
       "      <th>1954</th>\n",
       "      <td>Pangeran Asogiri_10_1</td>\n",
       "      <td>1.736842</td>\n",
       "    </tr>\n",
       "    <tr>\n",
       "      <th>1823</th>\n",
       "      <td>Pahlawan_18_1</td>\n",
       "      <td>2.720930</td>\n",
       "    </tr>\n",
       "  </tbody>\n",
       "</table>\n",
       "</div>"
      ],
      "text/plain": [
       "                 streettime  weekendmean\n",
       "2553     Warung Nangka_12_1     1.000000\n",
       "1168       Kebon Pedes_20_1     2.230769\n",
       "1954  Pangeran Asogiri_10_1     1.736842\n",
       "1823          Pahlawan_18_1     2.720930"
      ]
     },
     "execution_count": 25,
     "metadata": {},
     "output_type": "execute_result"
    }
   ],
   "source": [
    "#Weekend Mean\n",
    "weekendmean=streetWeekend.groupby('streettime').level_weekend.mean().reset_index()\n",
    "weekendmean.columns=['streettime','weekendmean']\n",
    "weekendmean.sample(4)"
   ]
  },
  {
   "cell_type": "code",
   "execution_count": 26,
   "metadata": {},
   "outputs": [
    {
     "data": {
      "text/html": [
       "<div>\n",
       "<style scoped>\n",
       "    .dataframe tbody tr th:only-of-type {\n",
       "        vertical-align: middle;\n",
       "    }\n",
       "\n",
       "    .dataframe tbody tr th {\n",
       "        vertical-align: top;\n",
       "    }\n",
       "\n",
       "    .dataframe thead th {\n",
       "        text-align: right;\n",
       "    }\n",
       "</style>\n",
       "<table border=\"1\" class=\"dataframe\">\n",
       "  <thead>\n",
       "    <tr style=\"text-align: right;\">\n",
       "      <th></th>\n",
       "      <th>streettime</th>\n",
       "      <th>weekendstd</th>\n",
       "    </tr>\n",
       "  </thead>\n",
       "  <tbody>\n",
       "    <tr>\n",
       "      <th>2405</th>\n",
       "      <td>Tawakal_16_1</td>\n",
       "      <td>NaN</td>\n",
       "    </tr>\n",
       "    <tr>\n",
       "      <th>473</th>\n",
       "      <td>Ciomas Raya_19_1</td>\n",
       "      <td>0.922266</td>\n",
       "    </tr>\n",
       "    <tr>\n",
       "      <th>2075</th>\n",
       "      <td>RE Abdullah_10_1</td>\n",
       "      <td>0.739458</td>\n",
       "    </tr>\n",
       "    <tr>\n",
       "      <th>1198</th>\n",
       "      <td>Kenanga Permai_20_1</td>\n",
       "      <td>NaN</td>\n",
       "    </tr>\n",
       "  </tbody>\n",
       "</table>\n",
       "</div>"
      ],
      "text/plain": [
       "               streettime  weekendstd\n",
       "2405         Tawakal_16_1         NaN\n",
       "473      Ciomas Raya_19_1    0.922266\n",
       "2075     RE Abdullah_10_1    0.739458\n",
       "1198  Kenanga Permai_20_1         NaN"
      ]
     },
     "execution_count": 26,
     "metadata": {},
     "output_type": "execute_result"
    }
   ],
   "source": [
    "#Weekend Std\n",
    "weekendstd=streetWeekend.groupby('streettime').level_weekend.std().reset_index()\n",
    "weekendstd.columns=['streettime','weekendstd']\n",
    "weekendstd.sample(4)"
   ]
  },
  {
   "cell_type": "code",
   "execution_count": 27,
   "metadata": {},
   "outputs": [],
   "source": [
    "streetWeekdays = street_date[street_date['is_weekend']==0]\n",
    "streetWeekdays = streetWeekdays[['streettime','level_weekday']]"
   ]
  },
  {
   "cell_type": "code",
   "execution_count": 28,
   "metadata": {},
   "outputs": [
    {
     "data": {
      "text/html": [
       "<div>\n",
       "<style scoped>\n",
       "    .dataframe tbody tr th:only-of-type {\n",
       "        vertical-align: middle;\n",
       "    }\n",
       "\n",
       "    .dataframe tbody tr th {\n",
       "        vertical-align: top;\n",
       "    }\n",
       "\n",
       "    .dataframe thead th {\n",
       "        text-align: right;\n",
       "    }\n",
       "</style>\n",
       "<table border=\"1\" class=\"dataframe\">\n",
       "  <thead>\n",
       "    <tr style=\"text-align: right;\">\n",
       "      <th></th>\n",
       "      <th>streettime</th>\n",
       "      <th>weekdaysmean</th>\n",
       "    </tr>\n",
       "  </thead>\n",
       "  <tbody>\n",
       "    <tr>\n",
       "      <th>2196</th>\n",
       "      <td>RE Abdullah_6_0</td>\n",
       "      <td>3.021277</td>\n",
       "    </tr>\n",
       "    <tr>\n",
       "      <th>2258</th>\n",
       "      <td>Raden Kosasih_15_0</td>\n",
       "      <td>2.000000</td>\n",
       "    </tr>\n",
       "    <tr>\n",
       "      <th>1212</th>\n",
       "      <td>Kencana 2 Raya_14_0</td>\n",
       "      <td>2.200000</td>\n",
       "    </tr>\n",
       "    <tr>\n",
       "      <th>1807</th>\n",
       "      <td>N9 Raden KH Abdullah bin Nuh_17_0</td>\n",
       "      <td>2.595588</td>\n",
       "    </tr>\n",
       "  </tbody>\n",
       "</table>\n",
       "</div>"
      ],
      "text/plain": [
       "                             streettime  weekdaysmean\n",
       "2196                    RE Abdullah_6_0      3.021277\n",
       "2258                 Raden Kosasih_15_0      2.000000\n",
       "1212                Kencana 2 Raya_14_0      2.200000\n",
       "1807  N9 Raden KH Abdullah bin Nuh_17_0      2.595588"
      ]
     },
     "execution_count": 28,
     "metadata": {},
     "output_type": "execute_result"
    }
   ],
   "source": [
    "#Weekdays Mean\n",
    "weekdaysmean=streetWeekdays.groupby('streettime').level_weekday.mean().reset_index()\n",
    "weekdaysmean.columns=['streettime','weekdaysmean']\n",
    "weekdaysmean.sample(4)"
   ]
  },
  {
   "cell_type": "code",
   "execution_count": 29,
   "metadata": {},
   "outputs": [
    {
     "data": {
      "text/html": [
       "<div>\n",
       "<style scoped>\n",
       "    .dataframe tbody tr th:only-of-type {\n",
       "        vertical-align: middle;\n",
       "    }\n",
       "\n",
       "    .dataframe tbody tr th {\n",
       "        vertical-align: top;\n",
       "    }\n",
       "\n",
       "    .dataframe thead th {\n",
       "        text-align: right;\n",
       "    }\n",
       "</style>\n",
       "<table border=\"1\" class=\"dataframe\">\n",
       "  <thead>\n",
       "    <tr style=\"text-align: right;\">\n",
       "      <th></th>\n",
       "      <th>streettime</th>\n",
       "      <th>weekdaysstd</th>\n",
       "    </tr>\n",
       "  </thead>\n",
       "  <tbody>\n",
       "    <tr>\n",
       "      <th>1280</th>\n",
       "      <td>Lawang Gintung_12_0</td>\n",
       "      <td>1.414214</td>\n",
       "    </tr>\n",
       "    <tr>\n",
       "      <th>1133</th>\n",
       "      <td>Kapten Yusuf_7_0</td>\n",
       "      <td>1.095726</td>\n",
       "    </tr>\n",
       "    <tr>\n",
       "      <th>1948</th>\n",
       "      <td>Pakuan_19_0</td>\n",
       "      <td>0.534522</td>\n",
       "    </tr>\n",
       "    <tr>\n",
       "      <th>562</th>\n",
       "      <td>Dewi Sartika_19_0</td>\n",
       "      <td>0.816497</td>\n",
       "    </tr>\n",
       "  </tbody>\n",
       "</table>\n",
       "</div>"
      ],
      "text/plain": [
       "               streettime  weekdaysstd\n",
       "1280  Lawang Gintung_12_0     1.414214\n",
       "1133     Kapten Yusuf_7_0     1.095726\n",
       "1948          Pakuan_19_0     0.534522\n",
       "562     Dewi Sartika_19_0     0.816497"
      ]
     },
     "execution_count": 29,
     "metadata": {},
     "output_type": "execute_result"
    }
   ],
   "source": [
    "#Weekdays Mean\n",
    "weekdaysstd=streetWeekdays.groupby('streettime').level_weekday.std().reset_index()\n",
    "weekdaysstd.columns=['streettime','weekdaysstd']\n",
    "weekdaysstd.sample(4)"
   ]
  },
  {
   "cell_type": "code",
   "execution_count": 30,
   "metadata": {},
   "outputs": [],
   "source": [
    "streetWeekdays69= street_date[street_date.weekday69.notnull()]\n",
    "streetWeekdays69 = streetWeekdays69[['streettime','weekday69']]"
   ]
  },
  {
   "cell_type": "code",
   "execution_count": 31,
   "metadata": {},
   "outputs": [
    {
     "data": {
      "text/html": [
       "<div>\n",
       "<style scoped>\n",
       "    .dataframe tbody tr th:only-of-type {\n",
       "        vertical-align: middle;\n",
       "    }\n",
       "\n",
       "    .dataframe tbody tr th {\n",
       "        vertical-align: top;\n",
       "    }\n",
       "\n",
       "    .dataframe thead th {\n",
       "        text-align: right;\n",
       "    }\n",
       "</style>\n",
       "<table border=\"1\" class=\"dataframe\">\n",
       "  <thead>\n",
       "    <tr style=\"text-align: right;\">\n",
       "      <th></th>\n",
       "      <th>streettime</th>\n",
       "      <th>weekdaysmean69</th>\n",
       "    </tr>\n",
       "  </thead>\n",
       "  <tbody>\n",
       "    <tr>\n",
       "      <th>235</th>\n",
       "      <td>Mandala Raya_8_0</td>\n",
       "      <td>3.200000</td>\n",
       "    </tr>\n",
       "    <tr>\n",
       "      <th>371</th>\n",
       "      <td>Pengadilan_9_0</td>\n",
       "      <td>3.250000</td>\n",
       "    </tr>\n",
       "    <tr>\n",
       "      <th>107</th>\n",
       "      <td>Gang Aut_7_0</td>\n",
       "      <td>3.500000</td>\n",
       "    </tr>\n",
       "    <tr>\n",
       "      <th>290</th>\n",
       "      <td>N9 Jalan Raya Dramaga_7_0</td>\n",
       "      <td>2.711538</td>\n",
       "    </tr>\n",
       "  </tbody>\n",
       "</table>\n",
       "</div>"
      ],
      "text/plain": [
       "                    streettime  weekdaysmean69\n",
       "235           Mandala Raya_8_0        3.200000\n",
       "371             Pengadilan_9_0        3.250000\n",
       "107               Gang Aut_7_0        3.500000\n",
       "290  N9 Jalan Raya Dramaga_7_0        2.711538"
      ]
     },
     "execution_count": 31,
     "metadata": {},
     "output_type": "execute_result"
    }
   ],
   "source": [
    "#Weekdays jam 6-9 Mean\n",
    "weekdaysmean69=streetWeekdays69.groupby('streettime').weekday69.mean().reset_index()\n",
    "weekdaysmean69.columns=['streettime','weekdaysmean69']\n",
    "weekdaysmean69.sample(4)"
   ]
  },
  {
   "cell_type": "code",
   "execution_count": 32,
   "metadata": {},
   "outputs": [
    {
     "data": {
      "text/html": [
       "<div>\n",
       "<style scoped>\n",
       "    .dataframe tbody tr th:only-of-type {\n",
       "        vertical-align: middle;\n",
       "    }\n",
       "\n",
       "    .dataframe tbody tr th {\n",
       "        vertical-align: top;\n",
       "    }\n",
       "\n",
       "    .dataframe thead th {\n",
       "        text-align: right;\n",
       "    }\n",
       "</style>\n",
       "<table border=\"1\" class=\"dataframe\">\n",
       "  <thead>\n",
       "    <tr style=\"text-align: right;\">\n",
       "      <th></th>\n",
       "      <th>streettime</th>\n",
       "      <th>weekdaysstd69</th>\n",
       "    </tr>\n",
       "  </thead>\n",
       "  <tbody>\n",
       "    <tr>\n",
       "      <th>234</th>\n",
       "      <td>Mandala Raya_7_0</td>\n",
       "      <td>1.178511</td>\n",
       "    </tr>\n",
       "    <tr>\n",
       "      <th>106</th>\n",
       "      <td>Exit Tol Tajur_7_0</td>\n",
       "      <td>NaN</td>\n",
       "    </tr>\n",
       "    <tr>\n",
       "      <th>109</th>\n",
       "      <td>Gang Puma_6_0</td>\n",
       "      <td>NaN</td>\n",
       "    </tr>\n",
       "    <tr>\n",
       "      <th>423</th>\n",
       "      <td>Sempur Kaler_8_0</td>\n",
       "      <td>NaN</td>\n",
       "    </tr>\n",
       "  </tbody>\n",
       "</table>\n",
       "</div>"
      ],
      "text/plain": [
       "             streettime  weekdaysstd69\n",
       "234    Mandala Raya_7_0       1.178511\n",
       "106  Exit Tol Tajur_7_0            NaN\n",
       "109       Gang Puma_6_0            NaN\n",
       "423    Sempur Kaler_8_0            NaN"
      ]
     },
     "execution_count": 32,
     "metadata": {},
     "output_type": "execute_result"
    }
   ],
   "source": [
    "#Weekdays jam 6-9 Std\n",
    "weekdaysstd69=streetWeekdays69.groupby('streettime').weekday69.std().reset_index()\n",
    "weekdaysstd69.columns=['streettime','weekdaysstd69']\n",
    "weekdaysstd69.sample(4)"
   ]
  },
  {
   "cell_type": "code",
   "execution_count": 33,
   "metadata": {},
   "outputs": [],
   "source": [
    "streetWeekdays1518 = street_date[street_date.weekday1518.notnull()]\n",
    "streetWeekdays1518 = streetWeekdays1518[['streettime','weekday1518']]"
   ]
  },
  {
   "cell_type": "code",
   "execution_count": 34,
   "metadata": {},
   "outputs": [
    {
     "data": {
      "text/html": [
       "<div>\n",
       "<style scoped>\n",
       "    .dataframe tbody tr th:only-of-type {\n",
       "        vertical-align: middle;\n",
       "    }\n",
       "\n",
       "    .dataframe tbody tr th {\n",
       "        vertical-align: top;\n",
       "    }\n",
       "\n",
       "    .dataframe thead th {\n",
       "        text-align: right;\n",
       "    }\n",
       "</style>\n",
       "<table border=\"1\" class=\"dataframe\">\n",
       "  <thead>\n",
       "    <tr style=\"text-align: right;\">\n",
       "      <th></th>\n",
       "      <th>streettime</th>\n",
       "      <th>weekdaysmean1518</th>\n",
       "    </tr>\n",
       "  </thead>\n",
       "  <tbody>\n",
       "    <tr>\n",
       "      <th>536</th>\n",
       "      <td>RE Abdullah_18_0</td>\n",
       "      <td>2.695652</td>\n",
       "    </tr>\n",
       "    <tr>\n",
       "      <th>616</th>\n",
       "      <td>Tajur Indah_15_0</td>\n",
       "      <td>4.000000</td>\n",
       "    </tr>\n",
       "    <tr>\n",
       "      <th>338</th>\n",
       "      <td>Lebak Nangka_15_0</td>\n",
       "      <td>3.000000</td>\n",
       "    </tr>\n",
       "    <tr>\n",
       "      <th>323</th>\n",
       "      <td>Kolonel Enjo Martadisastra_18_0</td>\n",
       "      <td>3.000000</td>\n",
       "    </tr>\n",
       "  </tbody>\n",
       "</table>\n",
       "</div>"
      ],
      "text/plain": [
       "                          streettime  weekdaysmean1518\n",
       "536                 RE Abdullah_18_0          2.695652\n",
       "616                 Tajur Indah_15_0          4.000000\n",
       "338                Lebak Nangka_15_0          3.000000\n",
       "323  Kolonel Enjo Martadisastra_18_0          3.000000"
      ]
     },
     "execution_count": 34,
     "metadata": {},
     "output_type": "execute_result"
    }
   ],
   "source": [
    "#Weekdays jam 15-18 mean\n",
    "weekdaysmean1518=streetWeekdays1518.groupby('streettime').weekday1518.mean().reset_index()\n",
    "weekdaysmean1518.columns=['streettime','weekdaysmean1518']\n",
    "weekdaysmean1518.sample(4)"
   ]
  },
  {
   "cell_type": "code",
   "execution_count": 35,
   "metadata": {},
   "outputs": [
    {
     "data": {
      "text/html": [
       "<div>\n",
       "<style scoped>\n",
       "    .dataframe tbody tr th:only-of-type {\n",
       "        vertical-align: middle;\n",
       "    }\n",
       "\n",
       "    .dataframe tbody tr th {\n",
       "        vertical-align: top;\n",
       "    }\n",
       "\n",
       "    .dataframe thead th {\n",
       "        text-align: right;\n",
       "    }\n",
       "</style>\n",
       "<table border=\"1\" class=\"dataframe\">\n",
       "  <thead>\n",
       "    <tr style=\"text-align: right;\">\n",
       "      <th></th>\n",
       "      <th>streettime</th>\n",
       "      <th>weekdaysstd1518</th>\n",
       "    </tr>\n",
       "  </thead>\n",
       "  <tbody>\n",
       "    <tr>\n",
       "      <th>240</th>\n",
       "      <td>Jalan Empang_17_0</td>\n",
       "      <td>0.753678</td>\n",
       "    </tr>\n",
       "    <tr>\n",
       "      <th>371</th>\n",
       "      <td>Mayor Oking_18_0</td>\n",
       "      <td>0.000000</td>\n",
       "    </tr>\n",
       "    <tr>\n",
       "      <th>244</th>\n",
       "      <td>Jalan Kampung Buntar_17_0</td>\n",
       "      <td>0.500000</td>\n",
       "    </tr>\n",
       "    <tr>\n",
       "      <th>102</th>\n",
       "      <td>Ciherang Raya_16_0</td>\n",
       "      <td>NaN</td>\n",
       "    </tr>\n",
       "  </tbody>\n",
       "</table>\n",
       "</div>"
      ],
      "text/plain": [
       "                    streettime  weekdaysstd1518\n",
       "240          Jalan Empang_17_0         0.753678\n",
       "371           Mayor Oking_18_0         0.000000\n",
       "244  Jalan Kampung Buntar_17_0         0.500000\n",
       "102         Ciherang Raya_16_0              NaN"
      ]
     },
     "execution_count": 35,
     "metadata": {},
     "output_type": "execute_result"
    }
   ],
   "source": [
    "#Weekdays jam 16-19 std\n",
    "weekdaysstd1518=streetWeekdays1518.groupby('streettime').weekday1518.std().reset_index()\n",
    "weekdaysstd1518.columns=['streettime','weekdaysstd1518']\n",
    "weekdaysstd1518.sample(4)"
   ]
  },
  {
   "cell_type": "code",
   "execution_count": 36,
   "metadata": {},
   "outputs": [],
   "source": [
    "time_feature = [weekendmean, weekendstd, weekdaysmean, weekdaysstd, weekdaysmean69, weekdaysstd69, weekdaysmean1518, weekdaysstd1518]"
   ]
  },
  {
   "attachments": {},
   "cell_type": "markdown",
   "metadata": {},
   "source": [
    "## Merge Features"
   ]
  },
  {
   "cell_type": "code",
   "execution_count": 37,
   "metadata": {},
   "outputs": [],
   "source": [
    "df_interim = data_agg_jams2.copy()\n",
    "\n",
    "for d in time_feature:\n",
    "    df_interim = pd.merge(df_interim, d, on = 'streettime', how = 'left')\n"
   ]
  },
  {
   "cell_type": "code",
   "execution_count": 38,
   "metadata": {},
   "outputs": [],
   "source": [
    "df_interim.to_csv(PATH_DATA_INTERIM+'iter1_interim.csv',index = False)"
   ]
  }
 ],
 "metadata": {
  "kernelspec": {
   "display_name": "Python 3",
   "language": "python",
   "name": "python3"
  },
  "language_info": {
   "codemirror_mode": {
    "name": "ipython",
    "version": 3
   },
   "file_extension": ".py",
   "mimetype": "text/x-python",
   "name": "python",
   "nbconvert_exporter": "python",
   "pygments_lexer": "ipython3",
   "version": "3.11.1"
  },
  "orig_nbformat": 4,
  "vscode": {
   "interpreter": {
    "hash": "c695f160303b10cf773e76ff41f83ff10ce468b35ae4be393221571d089933b9"
   }
  }
 },
 "nbformat": 4,
 "nbformat_minor": 2
}
