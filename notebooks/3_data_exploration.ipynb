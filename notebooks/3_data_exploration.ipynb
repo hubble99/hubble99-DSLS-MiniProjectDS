{
 "cells": [
  {
   "cell_type": "code",
   "execution_count": 1,
   "metadata": {},
   "outputs": [],
   "source": [
    "import pandas as pd\n",
    "import numpy as np"
   ]
  },
  {
   "cell_type": "code",
   "execution_count": 3,
   "metadata": {},
   "outputs": [],
   "source": [
    "PATH_DATA='../data/raw/'\n",
    "PATH_DATA_INTERIM='../data/interim/'"
   ]
  },
  {
   "cell_type": "code",
   "execution_count": 4,
   "metadata": {},
   "outputs": [],
   "source": [
    "df1 = pd.read_csv(PATH_DATA_INTERIM+'iter1_interim_cln.csv')"
   ]
  },
  {
   "cell_type": "code",
   "execution_count": 5,
   "metadata": {},
   "outputs": [
    {
     "data": {
      "text/html": [
       "<div>\n",
       "<style scoped>\n",
       "    .dataframe tbody tr th:only-of-type {\n",
       "        vertical-align: middle;\n",
       "    }\n",
       "\n",
       "    .dataframe tbody tr th {\n",
       "        vertical-align: top;\n",
       "    }\n",
       "\n",
       "    .dataframe thead th {\n",
       "        text-align: right;\n",
       "    }\n",
       "</style>\n",
       "<table border=\"1\" class=\"dataframe\">\n",
       "  <thead>\n",
       "    <tr style=\"text-align: right;\">\n",
       "      <th></th>\n",
       "      <th>id</th>\n",
       "      <th>time</th>\n",
       "      <th>street</th>\n",
       "      <th>median_length</th>\n",
       "      <th>median_delay</th>\n",
       "      <th>median_speed_kmh</th>\n",
       "      <th>total_records</th>\n",
       "      <th>level</th>\n",
       "      <th>time2</th>\n",
       "      <th>hours</th>\n",
       "      <th>...</th>\n",
       "      <th>streettime2</th>\n",
       "      <th>is_train</th>\n",
       "      <th>weekendmean</th>\n",
       "      <th>weekendstd</th>\n",
       "      <th>weekdaysmean</th>\n",
       "      <th>weekdaysstd</th>\n",
       "      <th>weekdaysmean69</th>\n",
       "      <th>weekdaysstd69</th>\n",
       "      <th>weekdaysmean1518</th>\n",
       "      <th>weekdaysstd1518</th>\n",
       "    </tr>\n",
       "  </thead>\n",
       "  <tbody>\n",
       "    <tr>\n",
       "      <th>80941</th>\n",
       "      <td>36579224</td>\n",
       "      <td>2022-08-25 05:00:00.000</td>\n",
       "      <td>Semplak Raya</td>\n",
       "      <td>1355.0</td>\n",
       "      <td>93.5</td>\n",
       "      <td>20.8</td>\n",
       "      <td>6</td>\n",
       "      <td>1</td>\n",
       "      <td>2022-08-25 05:00:00</td>\n",
       "      <td>5</td>\n",
       "      <td>...</td>\n",
       "      <td>Semplak Raya_2022-08-25 05:00:00.000</td>\n",
       "      <td>1</td>\n",
       "      <td>0.0</td>\n",
       "      <td>0.0</td>\n",
       "      <td>2.5</td>\n",
       "      <td>2.12132</td>\n",
       "      <td>0.0</td>\n",
       "      <td>0.0</td>\n",
       "      <td>0.0</td>\n",
       "      <td>0.0</td>\n",
       "    </tr>\n",
       "  </tbody>\n",
       "</table>\n",
       "<p>1 rows × 22 columns</p>\n",
       "</div>"
      ],
      "text/plain": [
       "             id                     time        street  median_length  \\\n",
       "80941  36579224  2022-08-25 05:00:00.000  Semplak Raya         1355.0   \n",
       "\n",
       "       median_delay  median_speed_kmh  total_records  level  \\\n",
       "80941          93.5              20.8              6      1   \n",
       "\n",
       "                     time2  hours  ...                           streettime2  \\\n",
       "80941  2022-08-25 05:00:00      5  ...  Semplak Raya_2022-08-25 05:00:00.000   \n",
       "\n",
       "      is_train weekendmean  weekendstd  weekdaysmean  weekdaysstd  \\\n",
       "80941        1         0.0         0.0           2.5      2.12132   \n",
       "\n",
       "       weekdaysmean69  weekdaysstd69  weekdaysmean1518  weekdaysstd1518  \n",
       "80941             0.0            0.0               0.0              0.0  \n",
       "\n",
       "[1 rows x 22 columns]"
      ]
     },
     "execution_count": 5,
     "metadata": {},
     "output_type": "execute_result"
    }
   ],
   "source": [
    "df1.sample()"
   ]
  },
  {
   "cell_type": "code",
   "execution_count": 6,
   "metadata": {},
   "outputs": [],
   "source": [
    "col_exp = set(df1.columns)-set(['id','is_train','level','time','time2','streettime','streettime2','hours'])"
   ]
  },
  {
   "cell_type": "code",
   "execution_count": 7,
   "metadata": {},
   "outputs": [
    {
     "name": "stderr",
     "output_type": "stream",
     "text": [
      "C:\\Users\\ramad\\AppData\\Local\\Temp\\ipykernel_13216\\2077847929.py:1: FutureWarning: Passing a set as an indexer is deprecated and will raise in a future version. Use a list instead.\n",
      "  mf = df1[df1.is_train==1][col_exp].mean()\n",
      "C:\\Users\\ramad\\AppData\\Local\\Temp\\ipykernel_13216\\2077847929.py:1: FutureWarning: The default value of numeric_only in DataFrame.mean is deprecated. In a future version, it will default to False. In addition, specifying 'numeric_only=None' is deprecated. Select only valid columns or specify the value of numeric_only to silence this warning.\n",
      "  mf = df1[df1.is_train==1][col_exp].mean()\n",
      "C:\\Users\\ramad\\AppData\\Local\\Temp\\ipykernel_13216\\2077847929.py:2: FutureWarning: Passing a set as an indexer is deprecated and will raise in a future version. Use a list instead.\n",
      "  CoV = df1[df1.is_train==1][col_exp].std()/mf\n",
      "C:\\Users\\ramad\\AppData\\Local\\Temp\\ipykernel_13216\\2077847929.py:2: FutureWarning: The default value of numeric_only in DataFrame.std is deprecated. In a future version, it will default to False. In addition, specifying 'numeric_only=None' is deprecated. Select only valid columns or specify the value of numeric_only to silence this warning.\n",
      "  CoV = df1[df1.is_train==1][col_exp].std()/mf\n"
     ]
    },
    {
     "data": {
      "text/plain": [
       "median_speed_kmh    0.560676\n",
       "median_length       0.646654\n",
       "weekdaysmean        0.778123\n",
       "weekdaysstd         0.797811\n",
       "median_delay        0.831893\n",
       "total_records       1.174827\n",
       "is_weekend          1.371954\n",
       "weekendmean         1.422401\n",
       "weekendstd          1.465089\n",
       "weekdaysmean1518    2.049706\n",
       "weekdaysstd1518     2.073365\n",
       "weekdaysmean69      2.658726\n",
       "weekdaysstd69       2.680368\n",
       "dtype: float64"
      ]
     },
     "execution_count": 7,
     "metadata": {},
     "output_type": "execute_result"
    }
   ],
   "source": [
    "mf = df1[df1.is_train==1][col_exp].mean()\n",
    "CoV = df1[df1.is_train==1][col_exp].std()/mf\n",
    "\n",
    "CoV.sort_values()"
   ]
  }
 ],
 "metadata": {
  "kernelspec": {
   "display_name": "Python 3",
   "language": "python",
   "name": "python3"
  },
  "language_info": {
   "codemirror_mode": {
    "name": "ipython",
    "version": 3
   },
   "file_extension": ".py",
   "mimetype": "text/x-python",
   "name": "python",
   "nbconvert_exporter": "python",
   "pygments_lexer": "ipython3",
   "version": "3.11.1"
  },
  "orig_nbformat": 4,
  "vscode": {
   "interpreter": {
    "hash": "c695f160303b10cf773e76ff41f83ff10ce468b35ae4be393221571d089933b9"
   }
  }
 },
 "nbformat": 4,
 "nbformat_minor": 2
}
