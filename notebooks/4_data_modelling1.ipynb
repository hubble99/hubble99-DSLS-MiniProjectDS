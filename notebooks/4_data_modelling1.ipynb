{
 "cells": [
  {
   "cell_type": "code",
   "execution_count": 2,
   "metadata": {},
   "outputs": [],
   "source": [
    "import pandas as pd\n",
    "import seaborn as sns\n",
    "import matplotlib.pyplot as plt\n",
    "from matplotlib import pyplot\n",
    "import numpy as np\n",
    "import warnings"
   ]
  },
  {
   "cell_type": "code",
   "execution_count": 3,
   "metadata": {},
   "outputs": [],
   "source": [
    "from sklearn.linear_model import LogisticRegression\n",
    "from sklearn.preprocessing import StandardScaler\n",
    "from sklearn.metrics import classification_report, confusion_matrix"
   ]
  },
  {
   "cell_type": "code",
   "execution_count": 4,
   "metadata": {},
   "outputs": [],
   "source": [
    "PATH_DATA='../data/raw/'\n",
    "PATH_DATA_INTERIM='../data/interim/'"
   ]
  },
  {
   "cell_type": "code",
   "execution_count": 5,
   "metadata": {},
   "outputs": [],
   "source": [
    "df1 = pd.read_csv(PATH_DATA_INTERIM+'iter1_interim_cln.csv')"
   ]
  },
  {
   "cell_type": "code",
   "execution_count": 6,
   "metadata": {},
   "outputs": [
    {
     "data": {
      "text/html": [
       "<div>\n",
       "<style scoped>\n",
       "    .dataframe tbody tr th:only-of-type {\n",
       "        vertical-align: middle;\n",
       "    }\n",
       "\n",
       "    .dataframe tbody tr th {\n",
       "        vertical-align: top;\n",
       "    }\n",
       "\n",
       "    .dataframe thead th {\n",
       "        text-align: right;\n",
       "    }\n",
       "</style>\n",
       "<table border=\"1\" class=\"dataframe\">\n",
       "  <thead>\n",
       "    <tr style=\"text-align: right;\">\n",
       "      <th></th>\n",
       "      <th>id</th>\n",
       "      <th>time</th>\n",
       "      <th>street</th>\n",
       "      <th>median_length</th>\n",
       "      <th>median_delay</th>\n",
       "      <th>median_speed_kmh</th>\n",
       "      <th>total_records</th>\n",
       "      <th>level</th>\n",
       "      <th>time2</th>\n",
       "      <th>hours</th>\n",
       "      <th>...</th>\n",
       "      <th>streettime2</th>\n",
       "      <th>is_train</th>\n",
       "      <th>weekendmean</th>\n",
       "      <th>weekendstd</th>\n",
       "      <th>weekdaysmean</th>\n",
       "      <th>weekdaysstd</th>\n",
       "      <th>weekdaysmean69</th>\n",
       "      <th>weekdaysstd69</th>\n",
       "      <th>weekdaysmean1518</th>\n",
       "      <th>weekdaysstd1518</th>\n",
       "    </tr>\n",
       "  </thead>\n",
       "  <tbody>\n",
       "    <tr>\n",
       "      <th>17786</th>\n",
       "      <td>34196292</td>\n",
       "      <td>2022-07-17 13:00:00.000</td>\n",
       "      <td>HM Syarifudin</td>\n",
       "      <td>362.0</td>\n",
       "      <td>126.0</td>\n",
       "      <td>6.6</td>\n",
       "      <td>9</td>\n",
       "      <td>3</td>\n",
       "      <td>2022-07-17 13:00:00</td>\n",
       "      <td>13</td>\n",
       "      <td>...</td>\n",
       "      <td>HM Syarifudin_2022-07-17 13:00:00.000</td>\n",
       "      <td>1</td>\n",
       "      <td>2.0</td>\n",
       "      <td>0.816497</td>\n",
       "      <td>0.0</td>\n",
       "      <td>0.0</td>\n",
       "      <td>0.0</td>\n",
       "      <td>0.0</td>\n",
       "      <td>0.0</td>\n",
       "      <td>0.0</td>\n",
       "    </tr>\n",
       "  </tbody>\n",
       "</table>\n",
       "<p>1 rows × 22 columns</p>\n",
       "</div>"
      ],
      "text/plain": [
       "             id                     time         street  median_length  \\\n",
       "17786  34196292  2022-07-17 13:00:00.000  HM Syarifudin          362.0   \n",
       "\n",
       "       median_delay  median_speed_kmh  total_records  level  \\\n",
       "17786         126.0               6.6              9      3   \n",
       "\n",
       "                     time2  hours  ...                            streettime2  \\\n",
       "17786  2022-07-17 13:00:00     13  ...  HM Syarifudin_2022-07-17 13:00:00.000   \n",
       "\n",
       "      is_train weekendmean  weekendstd  weekdaysmean  weekdaysstd  \\\n",
       "17786        1         2.0    0.816497           0.0          0.0   \n",
       "\n",
       "       weekdaysmean69  weekdaysstd69  weekdaysmean1518  weekdaysstd1518  \n",
       "17786             0.0            0.0               0.0              0.0  \n",
       "\n",
       "[1 rows x 22 columns]"
      ]
     },
     "execution_count": 6,
     "metadata": {},
     "output_type": "execute_result"
    }
   ],
   "source": [
    "df1.sample()"
   ]
  },
  {
   "cell_type": "code",
   "execution_count": 7,
   "metadata": {},
   "outputs": [
    {
     "data": {
      "text/plain": [
       "Index(['id', 'time', 'street', 'median_length', 'median_delay',\n",
       "       'median_speed_kmh', 'total_records', 'level', 'time2', 'hours',\n",
       "       'is_weekend', 'streettime', 'streettime2', 'is_train', 'weekendmean',\n",
       "       'weekendstd', 'weekdaysmean', 'weekdaysstd', 'weekdaysmean69',\n",
       "       'weekdaysstd69', 'weekdaysmean1518', 'weekdaysstd1518'],\n",
       "      dtype='object')"
      ]
     },
     "execution_count": 7,
     "metadata": {},
     "output_type": "execute_result"
    }
   ],
   "source": [
    "df1.columns"
   ]
  },
  {
   "cell_type": "code",
   "execution_count": 8,
   "metadata": {},
   "outputs": [],
   "source": [
    "col_used = list(set(df1.columns)-set(['id','is_train','level','time','time2','street','streettime','streettime2']))\n",
    "\n",
    "col_used.sort() ## --> remember to sort"
   ]
  },
  {
   "cell_type": "code",
   "execution_count": 9,
   "metadata": {},
   "outputs": [],
   "source": [
    "Xtrain = df1[df1.is_train == 1][col_used]\n",
    "Ytrain = df1[df1.is_train == 1]['level']\n",
    "\n",
    "Xtest = df1[df1.is_train == 0][col_used]\n",
    "Ytest = df1[df1.is_train == 0]['level']"
   ]
  },
  {
   "cell_type": "code",
   "execution_count": null,
   "metadata": {},
   "outputs": [],
   "source": []
  },
  {
   "cell_type": "code",
   "execution_count": 10,
   "metadata": {},
   "outputs": [
    {
     "data": {
      "text/plain": [
       "(2.4188851447968864, 2.429523525315826)"
      ]
     },
     "execution_count": 10,
     "metadata": {},
     "output_type": "execute_result"
    }
   ],
   "source": [
    "Ytrain.mean(), Ytest.mean()"
   ]
  },
  {
   "cell_type": "code",
   "execution_count": null,
   "metadata": {},
   "outputs": [],
   "source": []
  },
  {
   "attachments": {},
   "cell_type": "markdown",
   "metadata": {},
   "source": [
    "Transformation"
   ]
  },
  {
   "cell_type": "code",
   "execution_count": 11,
   "metadata": {},
   "outputs": [],
   "source": [
    "SS = StandardScaler()"
   ]
  },
  {
   "cell_type": "code",
   "execution_count": 12,
   "metadata": {},
   "outputs": [],
   "source": [
    "SS.fit(Xtrain)\n",
    "Xtrain_ss = pd.DataFrame(SS.transform(Xtrain), columns = col_used)\n",
    "Xtest_ss = pd.DataFrame(SS.transform(Xtest), columns = col_used)"
   ]
  },
  {
   "cell_type": "code",
   "execution_count": 13,
   "metadata": {},
   "outputs": [
    {
     "name": "stderr",
     "output_type": "stream",
     "text": [
      "c:\\Users\\ramad\\AppData\\Local\\Programs\\Python\\Python311\\Lib\\site-packages\\sklearn\\linear_model\\_logistic.py:458: ConvergenceWarning: lbfgs failed to converge (status=1):\n",
      "STOP: TOTAL NO. of ITERATIONS REACHED LIMIT.\n",
      "\n",
      "Increase the number of iterations (max_iter) or scale the data as shown in:\n",
      "    https://scikit-learn.org/stable/modules/preprocessing.html\n",
      "Please also refer to the documentation for alternative solver options:\n",
      "    https://scikit-learn.org/stable/modules/linear_model.html#logistic-regression\n",
      "  n_iter_i = _check_optimize_result(\n"
     ]
    }
   ],
   "source": [
    "logisticregression1 = LogisticRegression().fit(Xtrain_ss, Ytrain)"
   ]
  },
  {
   "cell_type": "code",
   "execution_count": 14,
   "metadata": {},
   "outputs": [
    {
     "name": "stdout",
     "output_type": "stream",
     "text": [
      "Classification report:\n",
      "               precision    recall  f1-score   support\n",
      "\n",
      "           1       0.78      0.77      0.78     15941\n",
      "           2       0.73      0.76      0.75     28139\n",
      "           3       0.76      0.74      0.75     24215\n",
      "           4       0.82      0.77      0.79     10970\n",
      "           5       1.00      1.00      1.00      1158\n",
      "\n",
      "    accuracy                           0.76     80423\n",
      "   macro avg       0.82      0.81      0.81     80423\n",
      "weighted avg       0.76      0.76      0.76     80423\n",
      "\n",
      "Confusion matrix:\n",
      " [[12350  3478    85    28     0]\n",
      " [ 3369 21456  3218    96     0]\n",
      " [  192  4364 17933  1726     0]\n",
      " [   12    36  2503  8419     0]\n",
      " [    4     0     0     0  1154]]\n"
     ]
    }
   ],
   "source": [
    "y_train1=logisticregression1.predict(Xtrain_ss)\n",
    "\n",
    "print('Classification report:\\n', classification_report(Ytrain, y_train1))\n",
    "conf_mat = confusion_matrix(Ytrain, y_train1)\n",
    "print('Confusion matrix:\\n', conf_mat)"
   ]
  },
  {
   "cell_type": "code",
   "execution_count": 15,
   "metadata": {},
   "outputs": [
    {
     "name": "stdout",
     "output_type": "stream",
     "text": [
      "Classification report:\n",
      "               precision    recall  f1-score   support\n",
      "\n",
      "           1       0.74      0.73      0.74      3891\n",
      "           2       0.70      0.75      0.73      7080\n",
      "           3       0.74      0.72      0.73      6072\n",
      "           4       0.81      0.73      0.76      2734\n",
      "           5       1.00      0.99      1.00       329\n",
      "\n",
      "    accuracy                           0.74     20106\n",
      "   macro avg       0.80      0.78      0.79     20106\n",
      "weighted avg       0.74      0.74      0.74     20106\n",
      "\n",
      "Confusion matrix:\n",
      " [[2857 1006   18   10    0]\n",
      " [ 933 5324  798   25    0]\n",
      " [  57 1236 4343  436    0]\n",
      " [   5   36  708 1985    0]\n",
      " [   3    0    0    0  326]]\n"
     ]
    }
   ],
   "source": [
    "y_pred1=logisticregression1.predict(Xtest_ss)\n",
    "\n",
    "print('Classification report:\\n', classification_report(Ytest, y_pred1))\n",
    "conf_mat = confusion_matrix(Ytest, y_pred1)\n",
    "print('Confusion matrix:\\n', conf_mat)"
   ]
  }
 ],
 "metadata": {
  "kernelspec": {
   "display_name": "Python 3",
   "language": "python",
   "name": "python3"
  },
  "language_info": {
   "codemirror_mode": {
    "name": "ipython",
    "version": 3
   },
   "file_extension": ".py",
   "mimetype": "text/x-python",
   "name": "python",
   "nbconvert_exporter": "python",
   "pygments_lexer": "ipython3",
   "version": "3.11.1"
  },
  "orig_nbformat": 4,
  "vscode": {
   "interpreter": {
    "hash": "c695f160303b10cf773e76ff41f83ff10ce468b35ae4be393221571d089933b9"
   }
  }
 },
 "nbformat": 4,
 "nbformat_minor": 2
}
