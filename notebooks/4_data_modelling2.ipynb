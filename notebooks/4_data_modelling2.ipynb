{
 "cells": [
  {
   "cell_type": "code",
   "execution_count": 1,
   "metadata": {},
   "outputs": [],
   "source": [
    "import pandas as pd\n",
    "import seaborn as sns\n",
    "import matplotlib.pyplot as plt\n",
    "from matplotlib import pyplot\n",
    "import numpy as np\n",
    "import warnings"
   ]
  },
  {
   "cell_type": "code",
   "execution_count": 2,
   "metadata": {},
   "outputs": [],
   "source": [
    "from sklearn.preprocessing import StandardScaler\n",
    "from sklearn.tree import DecisionTreeClassifier\n",
    "from sklearn.metrics import classification_report, confusion_matrix"
   ]
  },
  {
   "cell_type": "code",
   "execution_count": 3,
   "metadata": {},
   "outputs": [],
   "source": [
    "PATH_DATA='../data/raw/'\n",
    "PATH_DATA_INTERIM='../data/interim/'"
   ]
  },
  {
   "cell_type": "code",
   "execution_count": 4,
   "metadata": {},
   "outputs": [],
   "source": [
    "df1 = pd.read_csv(PATH_DATA_INTERIM+'iter1_interim_cln.csv')"
   ]
  },
  {
   "cell_type": "code",
   "execution_count": 5,
   "metadata": {},
   "outputs": [
    {
     "data": {
      "text/html": [
       "<div>\n",
       "<style scoped>\n",
       "    .dataframe tbody tr th:only-of-type {\n",
       "        vertical-align: middle;\n",
       "    }\n",
       "\n",
       "    .dataframe tbody tr th {\n",
       "        vertical-align: top;\n",
       "    }\n",
       "\n",
       "    .dataframe thead th {\n",
       "        text-align: right;\n",
       "    }\n",
       "</style>\n",
       "<table border=\"1\" class=\"dataframe\">\n",
       "  <thead>\n",
       "    <tr style=\"text-align: right;\">\n",
       "      <th></th>\n",
       "      <th>id</th>\n",
       "      <th>time</th>\n",
       "      <th>street</th>\n",
       "      <th>median_length</th>\n",
       "      <th>median_delay</th>\n",
       "      <th>median_speed_kmh</th>\n",
       "      <th>total_records</th>\n",
       "      <th>level</th>\n",
       "      <th>time2</th>\n",
       "      <th>hours</th>\n",
       "      <th>...</th>\n",
       "      <th>streettime2</th>\n",
       "      <th>is_train</th>\n",
       "      <th>weekendmean</th>\n",
       "      <th>weekendstd</th>\n",
       "      <th>weekdaysmean</th>\n",
       "      <th>weekdaysstd</th>\n",
       "      <th>weekdaysmean69</th>\n",
       "      <th>weekdaysstd69</th>\n",
       "      <th>weekdaysmean1518</th>\n",
       "      <th>weekdaysstd1518</th>\n",
       "    </tr>\n",
       "  </thead>\n",
       "  <tbody>\n",
       "    <tr>\n",
       "      <th>90103</th>\n",
       "      <td>36901073</td>\n",
       "      <td>2022-08-30 07:00:00.000</td>\n",
       "      <td>Jenderal Ahmad Yani</td>\n",
       "      <td>776.0</td>\n",
       "      <td>142.0</td>\n",
       "      <td>11.72</td>\n",
       "      <td>4</td>\n",
       "      <td>3</td>\n",
       "      <td>2022-08-30 07:00:00</td>\n",
       "      <td>7</td>\n",
       "      <td>...</td>\n",
       "      <td>Jenderal Ahmad Yani_2022-08-30 07:00:00.000</td>\n",
       "      <td>1</td>\n",
       "      <td>0.0</td>\n",
       "      <td>0.0</td>\n",
       "      <td>2.901961</td>\n",
       "      <td>0.806347</td>\n",
       "      <td>2.901961</td>\n",
       "      <td>0.806347</td>\n",
       "      <td>0.0</td>\n",
       "      <td>0.0</td>\n",
       "    </tr>\n",
       "  </tbody>\n",
       "</table>\n",
       "<p>1 rows × 22 columns</p>\n",
       "</div>"
      ],
      "text/plain": [
       "             id                     time               street  median_length  \\\n",
       "90103  36901073  2022-08-30 07:00:00.000  Jenderal Ahmad Yani          776.0   \n",
       "\n",
       "       median_delay  median_speed_kmh  total_records  level  \\\n",
       "90103         142.0             11.72              4      3   \n",
       "\n",
       "                     time2  hours  ...  \\\n",
       "90103  2022-08-30 07:00:00      7  ...   \n",
       "\n",
       "                                       streettime2 is_train weekendmean  \\\n",
       "90103  Jenderal Ahmad Yani_2022-08-30 07:00:00.000        1         0.0   \n",
       "\n",
       "       weekendstd  weekdaysmean  weekdaysstd  weekdaysmean69  weekdaysstd69  \\\n",
       "90103         0.0      2.901961     0.806347        2.901961       0.806347   \n",
       "\n",
       "       weekdaysmean1518  weekdaysstd1518  \n",
       "90103               0.0              0.0  \n",
       "\n",
       "[1 rows x 22 columns]"
      ]
     },
     "execution_count": 5,
     "metadata": {},
     "output_type": "execute_result"
    }
   ],
   "source": [
    "df1.sample()"
   ]
  },
  {
   "cell_type": "code",
   "execution_count": 6,
   "metadata": {},
   "outputs": [],
   "source": [
    "## we use 1 as turn over\n",
    "col_used = list(set(df1.columns)-set(['id','is_train','level','time','time2','street','streettime','streettime2']))\n",
    "col_used.sort() ## --> remember to sort"
   ]
  },
  {
   "cell_type": "code",
   "execution_count": 7,
   "metadata": {},
   "outputs": [],
   "source": [
    "Xtrain = df1[df1.is_train == 1][col_used]\n",
    "Ytrain = df1[df1.is_train == 1]['level']\n",
    "\n",
    "Xtest = df1[df1.is_train == 0][col_used]\n",
    "Ytest = df1[df1.is_train == 0]['level']"
   ]
  },
  {
   "cell_type": "code",
   "execution_count": null,
   "metadata": {},
   "outputs": [],
   "source": []
  },
  {
   "cell_type": "code",
   "execution_count": 8,
   "metadata": {},
   "outputs": [
    {
     "data": {
      "text/plain": [
       "(2.4188851447968864, 2.429523525315826)"
      ]
     },
     "execution_count": 8,
     "metadata": {},
     "output_type": "execute_result"
    }
   ],
   "source": [
    "Ytrain.mean(), Ytest.mean()"
   ]
  },
  {
   "cell_type": "code",
   "execution_count": null,
   "metadata": {},
   "outputs": [],
   "source": []
  },
  {
   "attachments": {},
   "cell_type": "markdown",
   "metadata": {},
   "source": [
    "Transformation"
   ]
  },
  {
   "cell_type": "code",
   "execution_count": 9,
   "metadata": {},
   "outputs": [],
   "source": [
    "SS = StandardScaler()"
   ]
  },
  {
   "cell_type": "code",
   "execution_count": 10,
   "metadata": {},
   "outputs": [],
   "source": [
    "SS.fit(Xtrain)\n",
    "Xtrain_ss = pd.DataFrame(SS.transform(Xtrain), columns = col_used)\n",
    "Xtest_ss = pd.DataFrame(SS.transform(Xtest), columns = col_used)"
   ]
  },
  {
   "cell_type": "code",
   "execution_count": 11,
   "metadata": {},
   "outputs": [],
   "source": [
    "dctree = DecisionTreeClassifier().fit(Xtrain_ss, Ytrain)"
   ]
  },
  {
   "cell_type": "code",
   "execution_count": 12,
   "metadata": {},
   "outputs": [
    {
     "name": "stdout",
     "output_type": "stream",
     "text": [
      "Classification report:\n",
      "               precision    recall  f1-score   support\n",
      "\n",
      "           1       1.00      1.00      1.00     15941\n",
      "           2       1.00      1.00      1.00     28139\n",
      "           3       1.00      1.00      1.00     24215\n",
      "           4       1.00      1.00      1.00     10970\n",
      "           5       1.00      1.00      1.00      1158\n",
      "\n",
      "    accuracy                           1.00     80423\n",
      "   macro avg       1.00      1.00      1.00     80423\n",
      "weighted avg       1.00      1.00      1.00     80423\n",
      "\n",
      "Confusion matrix:\n",
      " [[15941     0     0     0     0]\n",
      " [    0 28139     0     0     0]\n",
      " [    0     0 24215     0     0]\n",
      " [    0     0     0 10970     0]\n",
      " [    0     0     0     0  1158]]\n"
     ]
    }
   ],
   "source": [
    "y_train=dctree.predict(Xtrain_ss)\n",
    "\n",
    "print('Classification report:\\n', classification_report(Ytrain, y_train))\n",
    "conf_mat = confusion_matrix(Ytrain, y_train)\n",
    "print('Confusion matrix:\\n', conf_mat)"
   ]
  },
  {
   "cell_type": "code",
   "execution_count": 13,
   "metadata": {},
   "outputs": [
    {
     "name": "stdout",
     "output_type": "stream",
     "text": [
      "Classification report:\n",
      "               precision    recall  f1-score   support\n",
      "\n",
      "           1       0.77      0.77      0.77      3891\n",
      "           2       0.76      0.76      0.76      7080\n",
      "           3       0.77      0.77      0.77      6072\n",
      "           4       0.82      0.81      0.81      2734\n",
      "           5       1.00      1.00      1.00       329\n",
      "\n",
      "    accuracy                           0.77     20106\n",
      "   macro avg       0.82      0.82      0.82     20106\n",
      "weighted avg       0.77      0.77      0.77     20106\n",
      "\n",
      "Confusion matrix:\n",
      " [[2991  827   66    7    0]\n",
      " [ 801 5351  887   41    0]\n",
      " [  81  850 4702  439    0]\n",
      " [  15   34  481 2204    0]\n",
      " [   0    0    0    0  329]]\n"
     ]
    }
   ],
   "source": [
    "y_pred=dctree.predict(Xtest_ss)\n",
    "\n",
    "print('Classification report:\\n', classification_report(Ytest, y_pred))\n",
    "conf_mat = confusion_matrix(Ytest, y_pred)\n",
    "print('Confusion matrix:\\n', conf_mat)"
   ]
  },
  {
   "cell_type": "code",
   "execution_count": 14,
   "metadata": {},
   "outputs": [
    {
     "data": {
      "image/png": "[encoded data removed]",
      "text/plain": [
       "<Figure size 1000x500 with 1 Axes>"
      ]
     },
     "metadata": {},
     "output_type": "display_data"
    }
   ],
   "source": [
    "features = Xtest_ss.columns\n",
    "f, ax = plt.subplots(figsize=(10,5))\n",
    "plot = sns.barplot(x=features, y=dctree.feature_importances_)\n",
    "ax.set_title('Feature Importance')\n",
    "plot.set_xticklabels(plot.get_xticklabels(),rotation='vertical')\n",
    "plt.show()"
   ]
  }
 ],
 "metadata": {
  "kernelspec": {
   "display_name": "Python 3",
   "language": "python",
   "name": "python3"
  },
  "language_info": {
   "codemirror_mode": {
    "name": "ipython",
    "version": 3
   },
   "file_extension": ".py",
   "mimetype": "text/x-python",
   "name": "python",
   "nbconvert_exporter": "python",
   "pygments_lexer": "ipython3",
   "version": "3.11.1"
  },
  "orig_nbformat": 4,
  "vscode": {
   "interpreter": {
    "hash": "c695f160303b10cf773e76ff41f83ff10ce468b35ae4be393221571d089933b9"
   }
  }
 },
 "nbformat": 4,
 "nbformat_minor": 2
}
